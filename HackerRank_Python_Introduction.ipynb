{
  "nbformat": 4,
  "nbformat_minor": 0,
  "metadata": {
    "colab": {
      "provenance": []
    },
    "kernelspec": {
      "name": "python3",
      "display_name": "Python 3"
    },
    "language_info": {
      "name": "python"
    }
  },
  "cells": [
    {
      "cell_type": "markdown",
      "source": [
        "# Say \"Hello, World!\" With Python\n",
        "\n",
        "\n"
      ],
      "metadata": {
        "id": "s6FOEU0HP5rV"
      }
    },
    {
      "cell_type": "markdown",
      "source": [
        "\n",
        "Here is a sample line of code that can be executed in Python:\n",
        "\n",
        "print(\"Hello, World!\")\n",
        "\n",
        "You can just as easily store a string as a variable and then print it to stdout:\n",
        "\n",
        "my_string = \"Hello, World!\"\n",
        "print(my_string)\n",
        "\n",
        "The above code will print  `Hello, World!`  on your screen. Try it yourself in the editor below!\n",
        "\n",
        "**Input Format**\n",
        "\n",
        "You do not need to read any input in this challenge.\n",
        "\n",
        "**Output Format**\n",
        "\n",
        "Print  `Hello, World!`  to stdout.\n",
        "\n",
        "**Sample Output 0**\n",
        "\n",
        "Hello, World!Here is a sample line of code that can be executed in Python:\n",
        "\n",
        "print(\"Hello, World!\")\n",
        "\n",
        "You can just as easily store a string as a variable and then print it to stdout:\n",
        "\n",
        "my_string = \"Hello, World!\"\n",
        "print(my_string)\n",
        "\n",
        "The above code will print  `Hello, World!`  on your screen. Try it yourself in the editor below!\n",
        "\n",
        "**Input Format**\n",
        "\n",
        "You do not need to read any input in this challenge.\n",
        "\n",
        "**Output Format**\n",
        "\n",
        "Print  `Hello, World!`  to stdout.\n",
        "\n",
        "**Sample Output 0**\n",
        "\n",
        "Hello, World!"
      ],
      "metadata": {
        "id": "B1ZgRn2wQo5d"
      }
    },
    {
      "cell_type": "code",
      "execution_count": null,
      "metadata": {
        "colab": {
          "base_uri": "https://localhost:8080/"
        },
        "id": "cSRyqydrPoiB",
        "outputId": "e87aacaa-bc0b-41c4-c112-936ce2483c78"
      },
      "outputs": [
        {
          "output_type": "stream",
          "name": "stdout",
          "text": [
            "Hello, World!\n"
          ]
        }
      ],
      "source": [
        "print(\"Hello, World!\")\n"
      ]
    },
    {
      "cell_type": "markdown",
      "source": [
        "# If-Else\n"
      ],
      "metadata": {
        "id": "vc65j9LtQQ6u"
      }
    },
    {
      "cell_type": "markdown",
      "source": [
        "\n",
        "**Task**  \n",
        "Given an integer,  , perform the following conditional actions:\n",
        "\n",
        "-   If  is odd, print  `Weird`\n",
        "-   If  is even and in the inclusive range of  to  , print  `Not Weird`\n",
        "-   If  is even and in the inclusive range of  to  , print  `Weird`\n",
        "-   If  is even and greater than  , print  `Not Weird`\n",
        "\n",
        "**Input Format**\n",
        "\n",
        "A single line containing a positive integer,  .\n",
        "\n",
        "**Constraints**\n",
        "\n",
        "**Output Format**\n",
        "\n",
        "Print  `Weird`  if the number is weird. Otherwise, print  `Not Weird`."
      ],
      "metadata": {
        "id": "jy9eqMr4RUsr"
      }
    },
    {
      "cell_type": "markdown",
      "source": [
        "\n",
        "To solve this problem, we need to determine if a given integer is \"Weird\" or \"Not Weird\" based on specific conditions. The solution involves checking the integer's parity (odd or even) and its range.\n",
        "\n",
        "### Approach\n",
        "\n",
        "1.  **Check if the integer is odd**: If the integer is odd, it is immediately classified as \"Weird\".\n",
        "2.  **Check if the integer is even**:\n",
        "    -   If the integer is even and falls within the range of 2 to 5 (inclusive), it is classified as \"Not Weird\".\n",
        "    -   If the integer is even and falls within the range of 6 to 20 (inclusive), it is classified as \"Weird\".\n",
        "    -   If the integer is even and greater than 20, it is classified as \"Not Weird\"."
      ],
      "metadata": {
        "id": "RO68Adg0R0yX"
      }
    },
    {
      "cell_type": "code",
      "source": [
        "#!/bin/python3\n",
        "\n",
        "import math\n",
        "import os\n",
        "import random\n",
        "import re\n",
        "import sys\n",
        "\n",
        "n = int(input())\n",
        "if n % 2 != 0:\n",
        "    print(\"Weird\")\n",
        "else:\n",
        "    if 2 <= n <= 5:\n",
        "        print(\"Not Weird\")\n",
        "    elif 6 <= n <= 20:\n",
        "        print(\"Weird\")\n",
        "    else:\n",
        "        print(\"Not Weird\")\n"
      ],
      "metadata": {
        "colab": {
          "base_uri": "https://localhost:8080/"
        },
        "id": "noFBu2b-RaSU",
        "outputId": "56a0c995-e4a0-4fa6-83c8-a73fac81836a"
      },
      "execution_count": 6,
      "outputs": [
        {
          "output_type": "stream",
          "name": "stdout",
          "text": [
            "2\n",
            "Not Weird\n"
          ]
        }
      ]
    },
    {
      "cell_type": "markdown",
      "source": [
        "\n",
        "### Explanation\n",
        "\n",
        "1.  **Reading Input**: The code reads an integer input  `n`.\n",
        "2.  **Odd Check**: The first condition checks if  `n`  is odd. If true, it prints \"Weird\".\n",
        "3.  **Even Check**:\n",
        "    -   The second condition checks if  `n`  is even and within the range 2 to 5. If true, it prints \"Not Weird\".\n",
        "    -   The third condition checks if  `n`  is even and within the range 6 to 20. If true, it prints \"Weird\".\n",
        "    -   The fourth condition handles the case where  `n`  is even and greater than 20, printing \"Not Weird\"."
      ],
      "metadata": {
        "id": "orY41SDiSEGL"
      }
    },
    {
      "cell_type": "markdown",
      "source": [
        "# Division"
      ],
      "metadata": {
        "id": "Y1DsVCLRSHYd"
      }
    },
    {
      "cell_type": "markdown",
      "source": [
        "\n",
        "**Task**  \n",
        "The provided code stub reads two integers, a and b, from STDIN.\n",
        "\n",
        "Add logic to print two lines. The first line should contain the result of integer division, a// b. The second line should contain the result of float division, a / b.\n",
        "\n",
        "No rounding or formatting is necessary.\n",
        "\n",
        "**Example**  \n",
        "  \n",
        "\n",
        "    a=3\n",
        "    b=5\n",
        "\n",
        "The result of the integer division 3//5=0.\n",
        "The result of the float division is 3/5=0.6.\n",
        "\n",
        "\n"
      ],
      "metadata": {
        "id": "vJwrVQvpVJfx"
      }
    },
    {
      "cell_type": "markdown",
      "source": [
        "\n",
        "To solve this problem, we need to read two integers from standard input and perform both integer and float division on them. The results of these operations will be printed on separate lines.\n",
        "\n",
        "### Approach\n",
        "\n",
        "1.  **Reading Input:**  We will read two integers,  `a`  and  `b`, from standard input.\n",
        "2.  **Integer Division:**  Using the  `//`  operator, we will compute the integer division of  `a`  by  `b`. This operation returns the quotient without the remainder.\n",
        "3.  **Float Division:**  Using the  `/`  operator, we will compute the float division of  `a`  by  `b`. This operation returns the quotient as a float, including the decimal part.\n",
        "4.  **Output:**  The results of the integer division and float division are printed on separate lines using the  `print()`  function."
      ],
      "metadata": {
        "id": "BvJlFhN5VRXa"
      }
    },
    {
      "cell_type": "code",
      "source": [
        "if __name__ == '__main__':\n",
        "    a = int(input())\n",
        "    b = int(input())\n",
        "    print(a // b)\n",
        "    print(a / b)"
      ],
      "metadata": {
        "colab": {
          "base_uri": "https://localhost:8080/"
        },
        "id": "vEyIQo4VVfL-",
        "outputId": "7bb84bdd-07ce-4c5b-fef0-07e5d531f5fa"
      },
      "execution_count": 8,
      "outputs": [
        {
          "output_type": "stream",
          "name": "stdout",
          "text": [
            "3\n",
            "5\n",
            "0\n",
            "0.6\n"
          ]
        }
      ]
    },
    {
      "cell_type": "markdown",
      "source": [
        "\n",
        "\n",
        "### Explanation\n",
        "\n",
        "-   The code reads two integers,  `a`  and  `b`, from standard input.\n",
        "-   It then computes the integer division of  `a`  by  `b`  using  `a // b`  and prints the result.\n",
        "-   Next, it computes the float division of  `a`  by  `b`  using  `a / b`  and prints the result.\n",
        "-   The results are printed on separate lines, as required."
      ],
      "metadata": {
        "id": "e0f9vgMCVoY0"
      }
    },
    {
      "cell_type": "markdown",
      "source": [
        "# Arithmetic Operators"
      ],
      "metadata": {
        "id": "fPUFqCcSYFet"
      }
    },
    {
      "cell_type": "markdown",
      "source": [
        "\n",
        "### **Task**\n",
        "\n",
        "The provided code stub reads two integers from STDIN, **a** and **b**. Add code to print three lines where:\n",
        "\n",
        "1.  The first line contains the **sum** of the two numbers.\n",
        "2.  The second line contains the **difference** of the two numbers (**first - second**).\n",
        "3.  The third line contains the **product** of the two numbers."
      ],
      "metadata": {
        "id": "rZ9dJzlUYKKw"
      }
    },
    {
      "cell_type": "markdown",
      "source": [
        "\n",
        "## Approach:\n",
        "\n",
        "The problem requires us to read two integers, `a` and `b`, from standard input and perform three operations:\n",
        "\n",
        "1.  Compute and print the **sum** of `a` and `b`.\n",
        "2.  Compute and print the **difference** of `a` and `b` (`a - b`).\n",
        "3.  Compute and print the **product** of `a` and `b`.\n",
        "\n",
        "### Steps:\n",
        "\n",
        "1.  Read two integers from standard input.\n",
        "2.  Perform the three required mathematical operations:\n",
        "    -   Addition (`a + b`)\n",
        "    -   Subtraction (`a - b`)\n",
        "    -   Multiplication (`a * b`)\n",
        "3.  Print each result on a new line."
      ],
      "metadata": {
        "id": "clPTV4P0YVoN"
      }
    },
    {
      "cell_type": "code",
      "source": [
        "if __name__ == '__main__':\n",
        "    a = int(input())  # Read the first integer\n",
        "    b = int(input())  # Read the second integer\n",
        "\n",
        "    print(a + b)  # Print the sum\n",
        "    print(a - b)  # Print the difference (a - b)\n",
        "    print(a * b)  # Print the product\n"
      ],
      "metadata": {
        "colab": {
          "base_uri": "https://localhost:8080/"
        },
        "id": "tDwh6Mg5YX8J",
        "outputId": "4ba8d897-e311-481a-a8a9-a64282bcdccb"
      },
      "execution_count": 9,
      "outputs": [
        {
          "output_type": "stream",
          "name": "stdout",
          "text": [
            "3\n",
            "5\n",
            "8\n",
            "-2\n",
            "15\n"
          ]
        }
      ]
    },
    {
      "cell_type": "markdown",
      "source": [
        "\n",
        "## Explanation:\n",
        "\n",
        "1.  **Reading Input:**\n",
        "    \n",
        "    -   `input().strip()` reads the input and removes any leading or trailing whitespace.\n",
        "    -   `int()` converts the input to an integer.\n",
        "    -   We read two values and store them in `a` and `b`.\n",
        "2.  **Performing Operations:**\n",
        "    \n",
        "    -   `a + b`: Computes the sum of the two numbers.\n",
        "    -   `a - b`: Computes the difference (subtracting `b` from `a`).\n",
        "    -   `a * b`: Computes the product of `a` and `b`.\n",
        "3.  **Printing Output:**\n",
        "    \n",
        "    -   Each operation's result is printed on a new line, following the required format."
      ],
      "metadata": {
        "id": "9DLnUkiTYfEd"
      }
    },
    {
      "cell_type": "markdown",
      "source": [
        "# Loops"
      ],
      "metadata": {
        "id": "_jGvt8bEYlvl"
      }
    },
    {
      "cell_type": "markdown",
      "source": [
        "\n",
        "### **Task**\n",
        "\n",
        "The provided code stub reads an integer, **n**, from STDIN. For all non-negative integers **i** where **i < n**, print **i²**."
      ],
      "metadata": {
        "id": "jQ9p0iRzczDP"
      }
    },
    {
      "cell_type": "markdown",
      "source": [
        "\n",
        "## **2. Approach**\n",
        "\n",
        "1.  **Read an integer** `n` from input.\n",
        "2.  **Iterate** over all non-negative integers **i** from `0` to `n-1`.\n",
        "3.  **Compute the square** of each `i` using `i ** 2` or `i * i`.\n",
        "4.  **Print the square** of each `i` on a separate line."
      ],
      "metadata": {
        "id": "5-Who_evdAao"
      }
    },
    {
      "cell_type": "code",
      "source": [
        "if __name__ == '__main__':\n",
        "    n = int(input())  # Read the integer input\n",
        "\n",
        "    for i in range(n):  # Iterate from 0 to n-1\n",
        "        print(i ** 2)  # Print the square of each i\n"
      ],
      "metadata": {
        "colab": {
          "base_uri": "https://localhost:8080/"
        },
        "id": "GdyUg6aTdCUH",
        "outputId": "db6358a1-b675-4022-b690-31377004c70f"
      },
      "execution_count": 12,
      "outputs": [
        {
          "output_type": "stream",
          "name": "stdout",
          "text": [
            "20\n",
            "0\n",
            "1\n",
            "4\n",
            "9\n",
            "16\n",
            "25\n",
            "36\n",
            "49\n",
            "64\n",
            "81\n",
            "100\n",
            "121\n",
            "144\n",
            "169\n",
            "196\n",
            "225\n",
            "256\n",
            "289\n",
            "324\n",
            "361\n"
          ]
        }
      ]
    },
    {
      "cell_type": "markdown",
      "source": [
        "\n",
        "## **Explanation**\n",
        "\n",
        "1.  **Reading Input**:\n",
        "    -   `n = int(input())` reads an integer from **STDIN**.\n",
        "2.  **Loop Through Range**:\n",
        "    -   `for i in range(n):` iterates over **i** starting from `0` up to `n-1`.\n",
        "3.  **Compute and Print Squares**:\n",
        "    -   `i ** 2` computes **i squared** (`i * i`).\n",
        "    -   `print(i ** 2)` prints the squared value on a new line."
      ],
      "metadata": {
        "id": "6TgsyFcNdbh6"
      }
    },
    {
      "cell_type": "markdown",
      "source": [
        "# Write a Function"
      ],
      "metadata": {
        "id": "VQnbZKexc1hn"
      }
    },
    {
      "cell_type": "markdown",
      "source": [
        "\n",
        "### **Task**\n",
        "\n",
        "An extra day is added to the calendar almost every four years as February 29, and the day is called a leap year. It corrects the calendar for the fact that our planet takes approximately 365.25 days to orbit the sun. A leap year contains a leap day.\n",
        "\n",
        "In the Gregorian calendar, three conditions are used to identify leap years:\n",
        "\n",
        "-   The year can be evenly divided by 4, it is a leap year, **unless**:\n",
        "    -   The year can be evenly divided by 100, **it is NOT a leap year**, **unless**:\n",
        "        -   The year is also evenly divisible by 400. **Then it is a leap year**.\n",
        "\n",
        "This means that in the Gregorian calendar, the years **2000** and **2400** are leap years, while **1800, 1900, 2100, 2200, 2300, and 2500** are NOT leap years.\n",
        "\n",
        "### **Task**\n",
        "\n",
        "Given a year, determine whether it is a leap year. If it is a leap year, return the Boolean **True**, otherwise return **False**.\n",
        "\n",
        "Note that the code stub provided reads from **STDIN** and passes arguments to the `is_leap` function. It is only necessary to complete the **is_leap** function."
      ],
      "metadata": {
        "id": "_f2lVYozgqm0"
      }
    },
    {
      "cell_type": "markdown",
      "source": [
        "\n",
        "## **2. Approach**\n",
        "\n",
        "To determine whether a year is a leap year, follow these steps:\n",
        "\n",
        "1.  **Check if the year is divisible by 4.**\n",
        "    -   If **not**, return `False`.\n",
        "2.  **Check if the year is also divisible by 100.**\n",
        "    -   If **not**, return `True` (since it's still a leap year).\n",
        "3.  **Check if the year is divisible by 400.**\n",
        "    -   If **true**, return `True` (leap year).\n",
        "    -   Otherwise, return `False` (not a leap year).\n",
        "\n",
        "This follows the **Gregorian calendar leap year rule**."
      ],
      "metadata": {
        "id": "92ruRWSOhBDc"
      }
    },
    {
      "cell_type": "code",
      "source": [
        "def is_leap(year):\n",
        "    leap = False\n",
        "\n",
        "     # Leap year conditions\n",
        "    if year % 4 == 0:  # Divisible by 4\n",
        "        if year % 100 == 0:  # Also divisible by 100\n",
        "            if year % 400 == 0:  # Also divisible by 400\n",
        "                leap = True\n",
        "            else:\n",
        "                leap = False\n",
        "        else:\n",
        "            leap = True  # Divisible by 4 but not 100, so it's a leap year\n",
        "\n",
        "    return leap\n",
        "\n",
        "year = int(input())\n",
        "print(is_leap(year))"
      ],
      "metadata": {
        "colab": {
          "base_uri": "https://localhost:8080/"
        },
        "id": "fy0CmcVAKs7-",
        "outputId": "04fc6e72-efaf-4553-93da-f4ee32066f61"
      },
      "execution_count": 13,
      "outputs": [
        {
          "output_type": "stream",
          "name": "stdout",
          "text": [
            "2024\n",
            "True\n"
          ]
        }
      ]
    },
    {
      "cell_type": "markdown",
      "source": [
        "\n",
        "## **Explanation**\n",
        "\n",
        "1.  **Checking Divisibility:**\n",
        "    \n",
        "    -   If `year % 4 == 0`, it **might** be a leap year.\n",
        "    -   If `year % 100 == 0`, it **is not** a leap year unless it’s also divisible by `400`.\n",
        "2.  **Conditions Followed:**\n",
        "    \n",
        "    -   **Divisible by 400 →** `True` (Leap Year)\n",
        "    -   **Divisible by 100 but NOT by 400 →** `False` (Not a Leap Year)\n",
        "    -   **Divisible by 4 but NOT by 100 →** `True` (Leap Year)\n",
        "    -   **Not Divisible by 4 →** `False` (Not a Leap Year)"
      ],
      "metadata": {
        "id": "9hHYMnOP_x1z"
      }
    },
    {
      "cell_type": "markdown",
      "source": [
        "# Print Function"
      ],
      "metadata": {
        "id": "Ry5nfOC5NzQo"
      }
    },
    {
      "cell_type": "markdown",
      "source": [
        "\n",
        "### **Task**\n",
        "\n",
        "The included code stub will read an integer, **n**, from STDIN.\n",
        "\n",
        "Without using any string methods, try to print the following:\n",
        "\n",
        "`123...n`\n",
        "\n",
        "(Note that `\"...\"` represents the consecutive values in between.)"
      ],
      "metadata": {
        "id": "K4i1HD6ZMLvF"
      }
    },
    {
      "cell_type": "markdown",
      "source": [
        "\n",
        "## **Approach**\n",
        "\n",
        "1.  **Read the input integer `n`**.\n",
        "2.  **Iterate from `1` to `n`**, printing each number without spaces.\n",
        "3.  **Avoid using string methods** like `join()`.\n",
        "4.  **Use `print()` with `end=\"\"`** to keep numbers in the same line."
      ],
      "metadata": {
        "id": "0t3TavGkN29H"
      }
    },
    {
      "cell_type": "code",
      "source": [
        "if __name__ == '__main__':\n",
        "    n = int(input())  # Read input integer\n",
        "\n",
        "    for i in range(1, n + 1):  # Loop from 1 to n\n",
        "        print(i, end=\"\")  # Print numbers consecutively without spaces\n",
        "\n",
        "\n"
      ],
      "metadata": {
        "colab": {
          "base_uri": "https://localhost:8080/"
        },
        "id": "unovgcH2N2mt",
        "outputId": "636d7e78-e19b-484d-aaa8-73640e60bb8f"
      },
      "execution_count": 15,
      "outputs": [
        {
          "output_type": "stream",
          "name": "stdout",
          "text": [
            "20\n",
            "1234567891011121314151617181920"
          ]
        }
      ]
    },
    {
      "cell_type": "markdown",
      "source": [
        "\n",
        "## **Explanation**\n",
        "\n",
        "1.  **Read `n` from input**:\n",
        "    \n",
        "    -   `n = int(input())` converts input into an integer.\n",
        "2.  **Loop from 1 to `n`**:\n",
        "    \n",
        "    -   `for i in range(1, n + 1):` iterates through values `1` to `n`.\n",
        "3.  **Print without spaces**:\n",
        "    \n",
        "    -   `print(i, end=\"\")` ensures that numbers print on the **same line** without spaces.\n",
        "    -   Normally, `print()` adds a newline (`\\n`) after each output, but `end=\"\"` overrides it."
      ],
      "metadata": {
        "id": "lKaHPS7HOWDJ"
      }
    }
  ]
}